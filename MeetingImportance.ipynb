{
 "cells": [
  {
   "cell_type": "code",
   "execution_count": null,
   "id": "382568c3-13ac-4fec-aabd-4a3bfd84f47e",
   "metadata": {},
   "outputs": [],
   "source": [
    "!pip3 install -U sagemaker"
   ]
  },
  {
   "cell_type": "code",
   "execution_count": null,
   "id": "b4de1cda-9abb-4d1b-89a0-188b1dd46d4e",
   "metadata": {},
   "outputs": [],
   "source": [
    "import sagemaker\n",
    "import boto3\n",
    "from sagemaker import image_uris\n",
    "from sagemaker.session import Session\n",
    "from sagemaker.inputs import TrainingInput\n",
    "\n",
    "# initialize hyperparameters\n",
    "hyperparameters = {\n",
    "        \"tree_method\": \"hist\",\n",
    "        \"objective\": \"rank:pairwise\",\n",
    "        \"lambdarank_pair_method\":\"topk\"}\n",
    "\n",
    "\n",
    "# set an output path where the trained model will be saved\n",
    "\n",
    "# UPDATE BUCKET NAME EACH TIME A NEW BUCKET IS CREATED\n",
    "# if CDK was used, the name will most likely be \"amzn-s3-slotify-sagemaker\"\n",
    "bucket = \"sagemaker-eu-west-2-971422692105\" # REMEMBER TO CHECK S3 BUCKET NAME\n",
    "prefix = \"MeetingImportance/xgboost-scripts\"\n",
    "output_path = 's3://{}/{}/{}/output'.format(bucket, prefix, 'xgb-built-in')\n",
    "\n",
    "role = \"sagemaker_local_user\"\n",
    "region = sagemaker.Session().boto_region_name\n",
    "\n",
    "# this line automatically looks for the XGBoost image URI and builds an XGBoost container.\n",
    "# specify the repo_version depending on your preference.\n",
    "xgboost_container = sagemaker.image_uris.retrieve(\"xgboost\", region, \"1.7-1\")\n",
    "\n",
    "# construct a SageMaker AI estimator that calls the xgboost-container\n",
    "estimator = sagemaker.estimator.Estimator(image_uri=xgboost_container, \n",
    "                                          hyperparameters=hyperparameters,\n",
    "                                          role= role,\n",
    "                                          instance_count=1, \n",
    "                                          instance_type='ml.m5.large', \n",
    "                                          volume_size=5, # 5 GB \n",
    "                                          output_path=output_path)\n",
    "\n",
    "# define the data type and paths to the training and validation datasets\n",
    "content_type = \"csv\"\n",
    "train_input = TrainingInput(\"s3://{}/{}/{}/\".format(bucket, prefix, 'train'), content_type=content_type)\n",
    "validation_input = TrainingInput(\"s3://{}/{}/{}/\".format(bucket, prefix, 'validation'), content_type=content_type)"
   ]
  },
  {
   "cell_type": "code",
   "execution_count": null,
   "id": "9bfc0c89-c685-458a-ad11-ebb3d84cf826",
   "metadata": {},
   "outputs": [],
   "source": [
    "# Train the model\n",
    "estimator.fit({'train': train_input, 'validation': validation_input})"
   ]
  },
  {
   "cell_type": "code",
   "execution_count": null,
   "id": "2fa7112a-b1b7-4ae2-96d1-8b224102bb1d",
   "metadata": {},
   "outputs": [],
   "source": [
    "# Deploy the model\n",
    "xgb_predictor = estimator.deploy(initial_instance_count=1, \n",
    "                                 instance_type='ml.m5.large',\n",
    "                                 endpoint_name=\"importantAI\",\n",
    "                                 model_name=\"ImportanceModel\"\n",
    "                                )"
   ]
  },
  {
   "cell_type": "code",
   "execution_count": null,
   "id": "7b3f2e28-5a4b-43a4-85d2-98b04864a53d",
   "metadata": {},
   "outputs": [],
   "source": [
    "# from sagemaker.serializers import CSVSerializer\n",
    "# xgb_predictor.serializer = CSVSerializer()\n",
    "\n",
    "# predictions = xgb_predictor.predict([1,\n",
    "# \"(\"\"Weekly Meeting\"\",2,\"\"90 minutes\"\")\",\n",
    "# \"(\"\"Weekly Meeting\"\",2,\"\"60 minutes\"\")\",\n",
    "# \"(\"\"Weekly Meeting\"\",2,\"\"45 minutes\"\")\",\n",
    "# \"(\"\"Weekly Meeting\"\",2,\"\"30 minutes\"\")\",\n",
    "# \"(\"\"Weekly Meeting\"\",2,\"\"15 minutes\"\")\"]).decode('utf-8)"
   ]
  }
 ],
 "metadata": {
  "kernelspec": {
   "display_name": "Python 3 (ipykernel)",
   "language": "python",
   "name": "python3"
  },
  "language_info": {
   "codemirror_mode": {
    "name": "ipython",
    "version": 3
   },
   "file_extension": ".py",
   "mimetype": "text/x-python",
   "name": "python",
   "nbconvert_exporter": "python",
   "pygments_lexer": "ipython3",
   "version": "3.11.6"
  }
 },
 "nbformat": 4,
 "nbformat_minor": 5
}
